{
  "nbformat": 4,
  "nbformat_minor": 0,
  "metadata": {
    "colab": {
      "provenance": [],
      "authorship_tag": "ABX9TyN42ext22M+7QuC5lsFWJM0",
      "include_colab_link": true
    },
    "kernelspec": {
      "name": "python3",
      "display_name": "Python 3"
    },
    "language_info": {
      "name": "python"
    }
  },
  "cells": [
    {
      "cell_type": "markdown",
      "metadata": {
        "id": "view-in-github",
        "colab_type": "text"
      },
      "source": [
        "<a href=\"https://colab.research.google.com/github/Carmodann1311/proyectos-AP.M/blob/main/Actividad_2_1_Rodr%C3%ADguez_carmona.ipynb\" target=\"_parent\"><img src=\"https://colab.research.google.com/assets/colab-badge.svg\" alt=\"Open In Colab\"/></a>"
      ]
    },
    {
      "cell_type": "markdown",
      "source": [
        "ROBERTO DANIEL RODRÍGUEZ CARMONA LCDN-501 ANALISIS MATEMÁTICO"
      ],
      "metadata": {
        "id": "wY7W2_A-BJRP"
      }
    },
    {
      "cell_type": "markdown",
      "source": [
        "ejercicio 1"
      ],
      "metadata": {
        "id": "uKFj8ww7BHMj"
      }
    },
    {
      "cell_type": "code",
      "source": [
        "x, y = symbols ('x y')\n",
        "f = Function ('f')(x, y)\n",
        "f\n",
        "Expresion = x**4 + y**2\n",
        "Eq(f, Expresion)"
      ],
      "metadata": {
        "id": "O2Om12gIEoqz"
      },
      "execution_count": null,
      "outputs": []
    },
    {
      "cell_type": "code",
      "source": [
        "from sympy import symbols, Eq, Function\n",
        "from sympy.plotting import plot3d\n",
        "\n",
        "\n",
        "x, y = symbols('x y')\n",
        "\n",
        "\n",
        "f = x**4 + y**2\n",
        "\n",
        "\n",
        "ecuacion = Eq(Function('f')(x, y), f)\n",
        "\n",
        "\n",
        "grafica = plot3d(f, (x, -10, 10), (y, -10, 10), title='Gráfica de f(x, y) = x^4 + y^2')\n",
        "\n",
        "\n",
        "grafica.show()\n"
      ],
      "metadata": {
        "id": "KlLdjoFaDsyd"
      },
      "execution_count": null,
      "outputs": []
    },
    {
      "cell_type": "markdown",
      "source": [
        "ejercicio 2"
      ],
      "metadata": {
        "id": "qTsj6KWPBGMg"
      }
    },
    {
      "cell_type": "code",
      "source": [
        "x, y = symbols ('x y')\n",
        "f - Function ('F')(x, y)\n",
        "f\n",
        "Expresion = x**2 + y**0\n",
        "Eq(f, Expresion)"
      ],
      "metadata": {
        "colab": {
          "base_uri": "https://localhost:8080/",
          "height": 39
        },
        "id": "7Sev_foVBEcV",
        "outputId": "87b54e7c-61b0-4c7f-98b5-22c5ee40093d"
      },
      "execution_count": 11,
      "outputs": [
        {
          "output_type": "execute_result",
          "data": {
            "text/plain": [
              "Eq(f(x, y), x**2 + 1)"
            ],
            "text/latex": "$\\displaystyle f{\\left(x,y \\right)} = x^{2} + 1$"
          },
          "metadata": {},
          "execution_count": 11
        }
      ]
    },
    {
      "cell_type": "code",
      "source": [
        "from sympy import symbols, Eq, Function\n",
        "from sympy.plotting import plot3d\n",
        "\n",
        "\n",
        "x, y = symbols('x y')\n",
        "\n",
        "\n",
        "f = x**2 + y**0\n",
        "\n",
        "\n",
        "ecuacion = Eq(Function('f')(x, y), f)\n",
        "\n",
        "\n",
        "grafica = plot3d(f, (x, -10, 10), (y, -10, 10), title='Gráfica de f(x, y) = x^2 + y^0')\n",
        "\n",
        "\n",
        "grafica.show()\n"
      ],
      "metadata": {
        "id": "oN_U_nC6EXq1"
      },
      "execution_count": null,
      "outputs": []
    },
    {
      "cell_type": "markdown",
      "source": [
        "ejercicio 3"
      ],
      "metadata": {
        "id": "a46ozPzjBE9K"
      }
    },
    {
      "cell_type": "code",
      "source": [
        "x, y = symbols ('x y')\n",
        "f - Function ('F')(x, y)\n",
        "f\n",
        "Expresion = x**0 + y**-2\n",
        "Eq(f, Expresion)"
      ],
      "metadata": {
        "colab": {
          "base_uri": "https://localhost:8080/",
          "height": 54
        },
        "id": "fnNeJXLICh7P",
        "outputId": "f5eb5b8c-7206-4934-fbbf-7ec0539b7b25"
      },
      "execution_count": 12,
      "outputs": [
        {
          "output_type": "execute_result",
          "data": {
            "text/plain": [
              "Eq(f(x, y), 1 + y**(-2))"
            ],
            "text/latex": "$\\displaystyle f{\\left(x,y \\right)} = 1 + \\frac{1}{y^{2}}$"
          },
          "metadata": {},
          "execution_count": 12
        }
      ]
    },
    {
      "cell_type": "code",
      "source": [
        "from sympy import symbols, Eq, Function\n",
        "from sympy.plotting import plot3d\n",
        "\n",
        "\n",
        "x, y = symbols('x y')\n",
        "\n",
        "\n",
        "f = x**0 + y**(-2)\n",
        "\n",
        "\n",
        "ecuacion = Eq(Function('f')(x, y), f)\n",
        "\n",
        "\n",
        "grafica = plot3d(f, (x, -10, 10), (y, -10, 10), title='Gráfica de f(x, y) = x^0 + y^-2')\n",
        "\n",
        "\n",
        "grafica.show()\n"
      ],
      "metadata": {
        "id": "lDu8Ldo1EyYF"
      },
      "execution_count": null,
      "outputs": []
    }
  ]
}