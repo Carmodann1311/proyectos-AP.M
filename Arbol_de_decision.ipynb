{
  "nbformat": 4,
  "nbformat_minor": 0,
  "metadata": {
    "colab": {
      "provenance": [],
      "authorship_tag": "ABX9TyN4ByLq/+bIpbQUlOa6TyHY",
      "include_colab_link": true
    },
    "kernelspec": {
      "name": "python3",
      "display_name": "Python 3"
    },
    "language_info": {
      "name": "python"
    }
  },
  "cells": [
    {
      "cell_type": "markdown",
      "metadata": {
        "id": "view-in-github",
        "colab_type": "text"
      },
      "source": [
        "<a href=\"https://colab.research.google.com/github/Carmodann1311/proyectos-AP.M/blob/main/Arbol_de_decision.ipynb\" target=\"_parent\"><img src=\"https://colab.research.google.com/assets/colab-badge.svg\" alt=\"Open In Colab\"/></a>"
      ]
    },
    {
      "cell_type": "markdown",
      "source": [
        "**Actualizado:**noviembre/2023"
      ],
      "metadata": {
        "id": "tAzJEdNv_Xtw"
      }
    },
    {
      "cell_type": "markdown",
      "source": [
        "**Autor:**Roberto Rodríguez Carmona"
      ],
      "metadata": {
        "id": "9wR1DzlQ_Z0z"
      }
    },
    {
      "cell_type": "markdown",
      "source": [
        "**Tema:**Arbol de decisión"
      ],
      "metadata": {
        "id": "gRQCBtjG_aMb"
      }
    },
    {
      "cell_type": "markdown",
      "source": [
        "**Explicar codigo**"
      ],
      "metadata": {
        "id": "P3HgbuTx_bgn"
      }
    },
    {
      "cell_type": "code",
      "execution_count": null,
      "metadata": {
        "id": "d4497KJ-degS"
      },
      "outputs": [],
      "source": []
    }
  ]
}