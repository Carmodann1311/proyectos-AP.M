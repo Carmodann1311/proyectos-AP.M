{
  "nbformat": 4,
  "nbformat_minor": 0,
  "metadata": {
    "colab": {
      "provenance": [],
      "include_colab_link": true
    },
    "kernelspec": {
      "name": "python3",
      "display_name": "Python 3"
    },
    "language_info": {
      "name": "python"
    }
  },
  "cells": [
    {
      "cell_type": "markdown",
      "metadata": {
        "id": "view-in-github",
        "colab_type": "text"
      },
      "source": [
        "<a href=\"https://colab.research.google.com/github/Carmodann1311/proyectos-AP.M/blob/main/Arbol_de_decision.ipynb\" target=\"_parent\"><img src=\"https://colab.research.google.com/assets/colab-badge.svg\" alt=\"Open In Colab\"/></a>"
      ]
    },
    {
      "cell_type": "markdown",
      "source": [
        "**Actualizado:**noviembre/2023"
      ],
      "metadata": {
        "id": "tAzJEdNv_Xtw"
      }
    },
    {
      "cell_type": "markdown",
      "source": [
        "**Autor:**Roberto Rodríguez Carmona"
      ],
      "metadata": {
        "id": "9wR1DzlQ_Z0z"
      }
    },
    {
      "cell_type": "markdown",
      "source": [
        "**Tema:**Arbol de decisión"
      ],
      "metadata": {
        "id": "gRQCBtjG_aMb"
      }
    },
    {
      "cell_type": "markdown",
      "source": [
        "**Explicar codigo** Se ha creado un objeto DecisionTreeClassifier que se utiliza para ajustar un modelo de árbol de decisión a los datos de goles y clasificación de los equipos de fútbol mexicanos. El modelo se ajusta utilizando la función fit, que toma como entrada los datos de goles y clasificación. Luego, se utiliza la función export_text para generar una representación de texto del árbol de decisión."
      ],
      "metadata": {
        "id": "P3HgbuTx_bgn"
      }
    },
    {
      "cell_type": "code",
      "execution_count": null,
      "metadata": {
        "id": "d4497KJ-degS"
      },
      "outputs": [],
      "source": [
        "import pandas as pd\n",
        "from sklearn.tree import DecisionTreeClassifier\n",
        "from sklearn.tree import export_text"
      ]
    },
    {
      "cell_type": "markdown",
      "source": [
        "**explicación** En este caso, el diccionario data contiene información sobre los equipos de fútbol mexicanos y sus estadísticas. El código crea un DataFrame llamado df a partir del diccionario data. El DataFrame tiene una fila para cada equipo y una columna para cada estadística."
      ],
      "metadata": {
        "id": "VLO76eFbBV0b"
      }
    },
    {
      "cell_type": "code",
      "source": [
        "data = {'Equipo': ['América', 'Monterrey', 'Tigres', 'Pumas', 'Chivas', 'Puebla', 'Atl. San Luis', 'León', 'Santos', 'Mazatlán', 'Pachuca', 'Toluca', 'Tijuana', 'Querétaro', 'Juárez', 'Cruz Azul', 'Atlas', 'Necaxa'],\n",
        "        'Pts': [40, 33, 30, 28, 27, 25, 23, 23, 23, 22, 22, 21, 20, 19, 18, 17, 17, 15],\n",
        "                'PJ': [17, 17, 17, 17, 17, 17, 17, 17, 17, 17, 17, 17, 17, 17, 17, 17, 17, 17],\n",
        "                        'PG': [12, 10, 8, 8, 8, 7, 7, 6, 7, 6, 5, 5, 6, 5, 5, 5, 4, 3],\n",
        "                                'PE': [4, 3, 6, 4, 3, 4, 2, 5, 2, 4, 7, 6, 2, 4, 3, 2, 5, 6],\n",
        "                                        'PP': [1, 4, 3, 5, 6, 6, 8, 6, 8, 7, 5, 6, 9, 8, 9, 10, 8, 8],\n",
        "                                                'GF': [37, 27, 32, 27, 22, 24, 31, 23, 31, 25, 16, 23, 23, 18, 24, 21, 14, 18],\n",
        "                                                        'GC': [14, 15, 18, 18, 22, 25, 26, 22, 34, 27, 27, 19, 26, 29, 34, 29, 24, 27],\n",
        "                                                                'DIF': [23, 12, 14, 9, 0, -1, 5, 1, -3, -2, -11, 4, -3, -11, -10, -8, -10, -9]}\n",
        "df = pd.DataFrame(data)"
      ],
      "metadata": {
        "id": "7t1s0pX9BaEc"
      },
      "execution_count": null,
      "outputs": []
    },
    {
      "cell_type": "code",
      "source": [
        "features = ['Pts', 'PJ', 'PG', 'PE', 'PP', 'GF', 'GC', 'DIF']\n",
        "X = df[features]\n",
        "y = df['Equipo']"
      ],
      "metadata": {
        "id": "3gYM60SJBvxJ"
      },
      "execution_count": null,
      "outputs": []
    },
    {
      "cell_type": "code",
      "source": [
        "dt = DecisionTreeClassifier(random_state=0, max_depth=3)\n",
        "dt = dt.fit(X, y)"
      ],
      "metadata": {
        "id": "JPuU4MrQB4Dy"
      },
      "execution_count": null,
      "outputs": []
    },
    {
      "cell_type": "markdown",
      "source": [
        "**explicación** Aqui ya imprime el resultado"
      ],
      "metadata": {
        "id": "nREg_afbB8u5"
      }
    },
    {
      "cell_type": "code",
      "source": [
        "r = export_text(dt, feature_names=features)\n",
        "print(r)"
      ],
      "metadata": {
        "id": "sM4gh-F_CBFI",
        "outputId": "4ea40bbe-a403-4fb7-b3e6-e6d396bc039d",
        "colab": {
          "base_uri": "https://localhost:8080/"
        }
      },
      "execution_count": null,
      "outputs": [
        {
          "output_type": "stream",
          "name": "stdout",
          "text": [
            "|--- PG <= 3.50\n",
            "|   |--- class: Necaxa\n",
            "|--- PG >  3.50\n",
            "|   |--- PE <= 2.50\n",
            "|   |   |--- Pts <= 18.50\n",
            "|   |   |   |--- class: Cruz Azul\n",
            "|   |   |--- Pts >  18.50\n",
            "|   |   |   |--- class: Atl. San Luis\n",
            "|   |--- PE >  2.50\n",
            "|   |   |--- Pts <= 17.50\n",
            "|   |   |   |--- class: Atlas\n",
            "|   |   |--- Pts >  17.50\n",
            "|   |   |   |--- class: América\n",
            "\n"
          ]
        }
      ]
    },
    {
      "cell_type": "markdown",
      "source": [
        "Estos códigos fueron hechos en base con la tabla general de la liga de fútbol BBVA Apertura 2023 (liga mexicana)"
      ],
      "metadata": {
        "id": "eU4BLpD8C38J"
      }
    }
  ]
}