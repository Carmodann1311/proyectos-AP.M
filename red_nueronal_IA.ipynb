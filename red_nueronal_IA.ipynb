{
  "nbformat": 4,
  "nbformat_minor": 0,
  "metadata": {
    "colab": {
      "provenance": [],
      "authorship_tag": "ABX9TyMO5qGgoD+z/Fi+CRIz4ZnX",
      "include_colab_link": true
    },
    "kernelspec": {
      "name": "python3",
      "display_name": "Python 3"
    },
    "language_info": {
      "name": "python"
    }
  },
  "cells": [
    {
      "cell_type": "markdown",
      "metadata": {
        "id": "view-in-github",
        "colab_type": "text"
      },
      "source": [
        "<a href=\"https://colab.research.google.com/github/Carmodann1311/proyectos-AP.M/blob/main/red_nueronal_IA.ipynb\" target=\"_parent\"><img src=\"https://colab.research.google.com/assets/colab-badge.svg\" alt=\"Open In Colab\"/></a>"
      ]
    },
    {
      "cell_type": "markdown",
      "source": [
        "Paso 1: Importar las librerías"
      ],
      "metadata": {
        "id": "DhiPNMkBeOWf"
      }
    },
    {
      "cell_type": "code",
      "source": [
        "import numpy as np\n",
        "import pandas as pd\n",
        "from sklearn.model_selection import train_test_split\n",
        "from sklearn.preprocessing import StandardScaler\n",
        "import tensorflow.keras as keras\n"
      ],
      "metadata": {
        "id": "JZBzfmoqbQog"
      },
      "execution_count": 8,
      "outputs": []
    },
    {
      "cell_type": "markdown",
      "source": [
        "Paso 2: Cargar los datos\n",
        "Se debe cargar un conjunto de datos que contenga información relevante para predecir el resultado de un partido de fútbol, como las estadísticas de los equipos, resultados anteriores, etc"
      ],
      "metadata": {
        "id": "9wuBxVYMeQT-"
      }
    },
    {
      "cell_type": "code",
      "source": [
        "# Cargar los datos en un DataFrame\n",
        "datos = pd.read_csv(\"/content/england-premier-league-league-2018-to-2019-stats.csv\")\n"
      ],
      "metadata": {
        "id": "H2kUv_a0bQre"
      },
      "execution_count": 24,
      "outputs": []
    },
    {
      "cell_type": "markdown",
      "source": [
        "Paso 3: Preprocesamiento de los datos\n",
        "Se deben realizar tareas de preprocesamiento de los datos, como dividir los datos en características (variables de entrada X) y etiquetas (variable de salida y), normalización de los datos, etc."
      ],
      "metadata": {
        "id": "4lAn_V6UeRqW"
      }
    },
    {
      "cell_type": "code",
      "source": [
        "print(datos.columns)\n"
      ],
      "metadata": {
        "colab": {
          "base_uri": "https://localhost:8080/"
        },
        "id": "t853oJSjbQuG",
        "outputId": "bd0818e5-7552-465c-a930-d6dee2266c01"
      },
      "execution_count": 25,
      "outputs": [
        {
          "output_type": "stream",
          "name": "stdout",
          "text": [
            "Index(['name', 'season', 'status', 'format', 'number_of_clubs',\n",
            "       'total_matches', 'matches_completed', 'game_week', 'total_game_week',\n",
            "       'progress', 'average_goals_per_match', 'average_scored_home_team',\n",
            "       'average_scored_away_team', 'btts_percentage',\n",
            "       'clean_sheets_percentage', 'prediction_risk',\n",
            "       'home_scored_advantage_percentage', 'home_defence_advantage_percentage',\n",
            "       'home_advantage_percentage', 'average_corners_per_match',\n",
            "       'average_corners_per_match_home_team',\n",
            "       'average_corners_per_match_away_team', 'total_corners_for_season',\n",
            "       'average_cards_per_match', 'average_cards_per_match_home_team',\n",
            "       'average_cards_per_match_away_team', 'total_cards_for_season',\n",
            "       'over_05_percentage', 'over_15_percentage', 'over_25_percentage',\n",
            "       'over_35_percentage', 'over_45_percentage', 'over_55_percentage',\n",
            "       'under_05_percentage', 'under_15_percentage', 'under_25_percentage',\n",
            "       'under_35_percentage', 'under_45_percentage', 'under_55_percentage',\n",
            "       'over_65_corners_percentage', 'over_75_corners_percentage',\n",
            "       'over_85_corners_percentage', 'over_95_corners_percentage',\n",
            "       'over_105_corners_percentage', 'over_115_corners_percentage',\n",
            "       'over_125_corners_percentage', 'over_135_corners_percentage',\n",
            "       'over_05_cards_percentage', 'over_15_cards_percentage',\n",
            "       'over_25_cards_percentage', 'over_35_cards_percentage',\n",
            "       'over_45_cards_percentage', 'over_55_cards_percentage',\n",
            "       'over_65_cards_percentage', 'over_75_cards_percentage',\n",
            "       'goals_min_0_to_10', 'goals_min_11_to_20', 'goals_min_21_to_30',\n",
            "       'goals_min_31_to_40', 'goals_min_41_to_50', 'goals_min_51_to_60',\n",
            "       'goals_min_61_to_70', 'goals_min_71_to_80', 'goals_min_81_to_90',\n",
            "       'goals_min_0_to_15', 'goals_min_16_to_30', 'goals_min_31_to_45',\n",
            "       'goals_min_46_to_60', 'goals_min_61_to_75', 'goals_min_76_to_90',\n",
            "       'xg_avg_per_match'],\n",
            "      dtype='object')\n"
          ]
        }
      ]
    },
    {
      "cell_type": "markdown",
      "source": [
        "Paso 4: Construcción del modelo de red neuronal"
      ],
      "metadata": {
        "id": "HQjfWZZmeSiv"
      }
    },
    {
      "cell_type": "code",
      "source": [
        "model = keras.models.Sequential([\n",
        "    keras.layers.Dense(128, activation='relu', input_shape=X_train.shape[1:]),\n",
        "    keras.layers.Dense(64, activation='relu'),\n",
        "    keras.layers.Dense(1, activation='sigmoid')\n",
        "])\n"
      ],
      "metadata": {
        "id": "UeQieX-_bQw2"
      },
      "execution_count": 26,
      "outputs": []
    },
    {
      "cell_type": "markdown",
      "source": [
        "Paso 5: Compilación del modelo"
      ],
      "metadata": {
        "id": "ATCVn_IeeTZ2"
      }
    },
    {
      "cell_type": "code",
      "source": [
        "model.compile(optimizer='adam', loss='binary_crossentropy', metrics=['accuracy'])\n"
      ],
      "metadata": {
        "id": "cZnb68a6bQ0x"
      },
      "execution_count": 27,
      "outputs": []
    },
    {
      "cell_type": "markdown",
      "source": [
        "Paso 6: Entrenamiento del modelo"
      ],
      "metadata": {
        "id": "C54BQpdQeUS2"
      }
    },
    {
      "cell_type": "code",
      "source": [
        "history = model.fit(X_train, y_train, epochs=50, validation_data=(X_test, y_test))\n"
      ],
      "metadata": {
        "colab": {
          "base_uri": "https://localhost:8080/"
        },
        "id": "ae51NsuDbQ72",
        "outputId": "f3905b7a-57a6-42d9-c71c-3449440a0203"
      },
      "execution_count": 28,
      "outputs": [
        {
          "output_type": "stream",
          "name": "stdout",
          "text": [
            "Epoch 1/50\n",
            "1/1 [==============================] - 2s 2s/step - loss: 0.6421 - accuracy: 0.2500 - val_loss: 0.6047 - val_accuracy: 1.0000\n",
            "Epoch 2/50\n",
            "1/1 [==============================] - 0s 56ms/step - loss: 0.6159 - accuracy: 0.2500 - val_loss: 0.6032 - val_accuracy: 1.0000\n",
            "Epoch 3/50\n",
            "1/1 [==============================] - 0s 44ms/step - loss: 0.5903 - accuracy: 0.2500 - val_loss: 0.6011 - val_accuracy: 1.0000\n",
            "Epoch 4/50\n",
            "1/1 [==============================] - 0s 57ms/step - loss: 0.5655 - accuracy: 0.2500 - val_loss: 0.5989 - val_accuracy: 1.0000\n",
            "Epoch 5/50\n",
            "1/1 [==============================] - 0s 39ms/step - loss: 0.5415 - accuracy: 0.5000 - val_loss: 0.5963 - val_accuracy: 1.0000\n",
            "Epoch 6/50\n",
            "1/1 [==============================] - 0s 42ms/step - loss: 0.5188 - accuracy: 0.5000 - val_loss: 0.5930 - val_accuracy: 1.0000\n",
            "Epoch 7/50\n",
            "1/1 [==============================] - 0s 56ms/step - loss: 0.4966 - accuracy: 0.5000 - val_loss: 0.5891 - val_accuracy: 1.0000\n",
            "Epoch 8/50\n",
            "1/1 [==============================] - 0s 39ms/step - loss: 0.4742 - accuracy: 0.5000 - val_loss: 0.5844 - val_accuracy: 1.0000\n",
            "Epoch 9/50\n",
            "1/1 [==============================] - 0s 58ms/step - loss: 0.4522 - accuracy: 0.5000 - val_loss: 0.5796 - val_accuracy: 1.0000\n",
            "Epoch 10/50\n",
            "1/1 [==============================] - 0s 59ms/step - loss: 0.4307 - accuracy: 0.5000 - val_loss: 0.5747 - val_accuracy: 1.0000\n",
            "Epoch 11/50\n",
            "1/1 [==============================] - 0s 60ms/step - loss: 0.4092 - accuracy: 0.5000 - val_loss: 0.5689 - val_accuracy: 1.0000\n",
            "Epoch 12/50\n",
            "1/1 [==============================] - 0s 59ms/step - loss: 0.3882 - accuracy: 0.5000 - val_loss: 0.5623 - val_accuracy: 1.0000\n",
            "Epoch 13/50\n",
            "1/1 [==============================] - 0s 51ms/step - loss: 0.3672 - accuracy: 0.5000 - val_loss: 0.5556 - val_accuracy: 1.0000\n",
            "Epoch 14/50\n",
            "1/1 [==============================] - 0s 44ms/step - loss: 0.3460 - accuracy: 0.5000 - val_loss: 0.5487 - val_accuracy: 1.0000\n",
            "Epoch 15/50\n",
            "1/1 [==============================] - 0s 68ms/step - loss: 0.3242 - accuracy: 0.5000 - val_loss: 0.5417 - val_accuracy: 1.0000\n",
            "Epoch 16/50\n",
            "1/1 [==============================] - 0s 66ms/step - loss: 0.3019 - accuracy: 0.5000 - val_loss: 0.5344 - val_accuracy: 1.0000\n",
            "Epoch 17/50\n",
            "1/1 [==============================] - 0s 69ms/step - loss: 0.2789 - accuracy: 0.5000 - val_loss: 0.5266 - val_accuracy: 1.0000\n",
            "Epoch 18/50\n",
            "1/1 [==============================] - 0s 68ms/step - loss: 0.2554 - accuracy: 0.5000 - val_loss: 0.5186 - val_accuracy: 1.0000\n",
            "Epoch 19/50\n",
            "1/1 [==============================] - 0s 60ms/step - loss: 0.2311 - accuracy: 0.5000 - val_loss: 0.5102 - val_accuracy: 1.0000\n",
            "Epoch 20/50\n",
            "1/1 [==============================] - 0s 53ms/step - loss: 0.2060 - accuracy: 0.7500 - val_loss: 0.5010 - val_accuracy: 1.0000\n",
            "Epoch 21/50\n",
            "1/1 [==============================] - 0s 68ms/step - loss: 0.1805 - accuracy: 0.7500 - val_loss: 0.4917 - val_accuracy: 1.0000\n",
            "Epoch 22/50\n",
            "1/1 [==============================] - 0s 45ms/step - loss: 0.1545 - accuracy: 0.7500 - val_loss: 0.4820 - val_accuracy: 1.0000\n",
            "Epoch 23/50\n",
            "1/1 [==============================] - 0s 64ms/step - loss: 0.1278 - accuracy: 0.7500 - val_loss: 0.4726 - val_accuracy: 1.0000\n",
            "Epoch 24/50\n",
            "1/1 [==============================] - 0s 53ms/step - loss: 0.1005 - accuracy: 0.7500 - val_loss: 0.4632 - val_accuracy: 1.0000\n",
            "Epoch 25/50\n",
            "1/1 [==============================] - 0s 67ms/step - loss: 0.0725 - accuracy: 0.7500 - val_loss: 0.4536 - val_accuracy: 1.0000\n",
            "Epoch 26/50\n",
            "1/1 [==============================] - 0s 63ms/step - loss: 0.0443 - accuracy: 0.7500 - val_loss: 0.4441 - val_accuracy: 1.0000\n",
            "Epoch 27/50\n",
            "1/1 [==============================] - 0s 64ms/step - loss: 0.0152 - accuracy: 0.7500 - val_loss: 0.4345 - val_accuracy: 1.0000\n",
            "Epoch 28/50\n",
            "1/1 [==============================] - 0s 66ms/step - loss: -0.0147 - accuracy: 0.7500 - val_loss: 0.4248 - val_accuracy: 1.0000\n",
            "Epoch 29/50\n",
            "1/1 [==============================] - 0s 48ms/step - loss: -0.0457 - accuracy: 0.7500 - val_loss: 0.4150 - val_accuracy: 1.0000\n",
            "Epoch 30/50\n",
            "1/1 [==============================] - 0s 50ms/step - loss: -0.0776 - accuracy: 0.7500 - val_loss: 0.4048 - val_accuracy: 1.0000\n",
            "Epoch 31/50\n",
            "1/1 [==============================] - 0s 53ms/step - loss: -0.1104 - accuracy: 0.7500 - val_loss: 0.3946 - val_accuracy: 1.0000\n",
            "Epoch 32/50\n",
            "1/1 [==============================] - 0s 53ms/step - loss: -0.1438 - accuracy: 0.7500 - val_loss: 0.3842 - val_accuracy: 1.0000\n",
            "Epoch 33/50\n",
            "1/1 [==============================] - 0s 45ms/step - loss: -0.1780 - accuracy: 0.7500 - val_loss: 0.3734 - val_accuracy: 1.0000\n",
            "Epoch 34/50\n",
            "1/1 [==============================] - 0s 61ms/step - loss: -0.2134 - accuracy: 0.7500 - val_loss: 0.3623 - val_accuracy: 1.0000\n",
            "Epoch 35/50\n",
            "1/1 [==============================] - 0s 68ms/step - loss: -0.2495 - accuracy: 0.7500 - val_loss: 0.3507 - val_accuracy: 1.0000\n",
            "Epoch 36/50\n",
            "1/1 [==============================] - 0s 61ms/step - loss: -0.2864 - accuracy: 0.7500 - val_loss: 0.3385 - val_accuracy: 1.0000\n",
            "Epoch 37/50\n",
            "1/1 [==============================] - 0s 65ms/step - loss: -0.3239 - accuracy: 0.7500 - val_loss: 0.3264 - val_accuracy: 1.0000\n",
            "Epoch 38/50\n",
            "1/1 [==============================] - 0s 66ms/step - loss: -0.3625 - accuracy: 0.7500 - val_loss: 0.3144 - val_accuracy: 1.0000\n",
            "Epoch 39/50\n",
            "1/1 [==============================] - 0s 44ms/step - loss: -0.4018 - accuracy: 0.7500 - val_loss: 0.3023 - val_accuracy: 1.0000\n",
            "Epoch 40/50\n",
            "1/1 [==============================] - 0s 53ms/step - loss: -0.4422 - accuracy: 0.7500 - val_loss: 0.2904 - val_accuracy: 1.0000\n",
            "Epoch 41/50\n",
            "1/1 [==============================] - 0s 61ms/step - loss: -0.4838 - accuracy: 0.7500 - val_loss: 0.2784 - val_accuracy: 1.0000\n",
            "Epoch 42/50\n",
            "1/1 [==============================] - 0s 62ms/step - loss: -0.5267 - accuracy: 0.7500 - val_loss: 0.2666 - val_accuracy: 1.0000\n",
            "Epoch 43/50\n",
            "1/1 [==============================] - 0s 47ms/step - loss: -0.5706 - accuracy: 0.7500 - val_loss: 0.2550 - val_accuracy: 1.0000\n",
            "Epoch 44/50\n",
            "1/1 [==============================] - 0s 67ms/step - loss: -0.6155 - accuracy: 0.7500 - val_loss: 0.2439 - val_accuracy: 1.0000\n",
            "Epoch 45/50\n",
            "1/1 [==============================] - 0s 47ms/step - loss: -0.6616 - accuracy: 0.7500 - val_loss: 0.2328 - val_accuracy: 1.0000\n",
            "Epoch 46/50\n",
            "1/1 [==============================] - 0s 52ms/step - loss: -0.7089 - accuracy: 0.7500 - val_loss: 0.2218 - val_accuracy: 1.0000\n",
            "Epoch 47/50\n",
            "1/1 [==============================] - 0s 69ms/step - loss: -0.7573 - accuracy: 0.7500 - val_loss: 0.2108 - val_accuracy: 1.0000\n",
            "Epoch 48/50\n",
            "1/1 [==============================] - 0s 66ms/step - loss: -0.8070 - accuracy: 0.7500 - val_loss: 0.1999 - val_accuracy: 1.0000\n",
            "Epoch 49/50\n",
            "1/1 [==============================] - 0s 73ms/step - loss: -0.8581 - accuracy: 0.7500 - val_loss: 0.1891 - val_accuracy: 1.0000\n",
            "Epoch 50/50\n",
            "1/1 [==============================] - 0s 95ms/step - loss: -0.9104 - accuracy: 0.7500 - val_loss: 0.1786 - val_accuracy: 1.0000\n"
          ]
        }
      ]
    },
    {
      "cell_type": "markdown",
      "source": [
        "Paso 7: Evaluación del modelo"
      ],
      "metadata": {
        "id": "5z9PN_gMeVSF"
      }
    },
    {
      "cell_type": "code",
      "source": [
        "test_loss, test_accuracy = model.evaluate(X_test, y_test)\n",
        "print(f'Loss: {test_loss}, Accuracy: {test_accuracy}')\n"
      ],
      "metadata": {
        "colab": {
          "base_uri": "https://localhost:8080/"
        },
        "id": "K3YwiOcIbQ_W",
        "outputId": "4c6282f3-ab4f-44a3-95bf-b36b76f6ab9b"
      },
      "execution_count": 29,
      "outputs": [
        {
          "output_type": "stream",
          "name": "stdout",
          "text": [
            "1/1 [==============================] - 0s 33ms/step - loss: 0.1786 - accuracy: 1.0000\n",
            "Loss: 0.1786118447780609, Accuracy: 1.0\n"
          ]
        }
      ]
    }
  ]
}