{
  "nbformat": 4,
  "nbformat_minor": 0,
  "metadata": {
    "colab": {
      "provenance": [],
      "authorship_tag": "ABX9TyP4IdIkKumHyiRDdwj6sJ3T",
      "include_colab_link": true
    },
    "kernelspec": {
      "name": "python3",
      "display_name": "Python 3"
    },
    "language_info": {
      "name": "python"
    }
  },
  "cells": [
    {
      "cell_type": "markdown",
      "metadata": {
        "id": "view-in-github",
        "colab_type": "text"
      },
      "source": [
        "<a href=\"https://colab.research.google.com/github/Carmodann1311/proyectos-AP.M/blob/main/prototipico_actualizado.ipynb\" target=\"_parent\"><img src=\"https://colab.research.google.com/assets/colab-badge.svg\" alt=\"Open In Colab\"/></a>"
      ]
    },
    {
      "cell_type": "code",
      "source": [
        "print(\"Bienvenido al juego de decisiones emocionales\")\n",
        "print(\"¿Estás listo para jugar?\")\n",
        "ready = input(\"Presiona 'S' para empezar el juego: \")\n",
        "\n",
        "if ready.lower() == 's':\n",
        "    print(\"Excelente, comencemos...\")\n",
        "    print(\"Estás caminando por un bosque y te encuentras con una bifurcación\")\n",
        "    decision_1 = input(\"¿Tomar el camino de la izquierda (I) o el camino de la derecha (D)?: \")\n",
        "\n",
        "    if decision_1.lower() == 'i':\n",
        "        print(\"Te encuentras con un río y un puente de madera\")\n",
        "        decision_2 = input(\"¿Cruzas el río (C) o buscas otro camino (B)?: \")\n",
        "\n",
        "        if decision_2.lower() == 'c':\n",
        "            print(\"El puente se derrumba y caes al río\")\n",
        "        elif decision_2.lower() == 'b':\n",
        "            print(\"Encuentras otro camino y llegas a un hermoso prado\")\n",
        "        else:\n",
        "            print(\"Opción no válida\")\n",
        "    elif decision_1.lower() == 'd':\n",
        "        print(\"Te encuentras con un lobo\")\n",
        "        decision_3 = input(\"¿Corres (C) o intentas ahuyentarlo (A)?: \")"
      ],
      "metadata": {
        "colab": {
          "base_uri": "https://localhost:8080/"
        },
        "id": "r0_FCENwAtow",
        "outputId": "287b2117-5830-4d63-e5df-6f4a1c5a1558"
      },
      "execution_count": 5,
      "outputs": [
        {
          "output_type": "stream",
          "name": "stdout",
          "text": [
            "Bienvenido al juego de decisiones emocionales\n",
            "¿Estás listo para jugar?\n",
            "Presiona 'S' para empezar el juego: s\n",
            "Excelente, comencemos...\n",
            "Estás caminando por un bosque y te encuentras con una bifurcación\n",
            "¿Tomar el camino de la izquierda (I) o el camino de la derecha (D)?: i\n",
            "Te encuentras con un río y un puente de madera\n",
            "¿Cruzas el río (C) o buscas otro camino (B)?: c\n",
            "El puente se derrumba y caes al río\n"
          ]
        }
      ]
    },
    {
      "cell_type": "code",
      "source": [
        "respuestas = []\n",
        "\n",
        "preguntas = [\n",
        "    \"¿Te sientes abrumado por la carga de trabajo?\",\n",
        "    \"¿Has pensado en abandonar la universidad en el pasado?\",\n",
        "    \"¿Te sientes apoyado por tus profesores y compañeros?\",\n",
        "    \"¿Estás satisfecho con tu especialización?\",\n",
        "    \"¿Tienes un plan claro para tu futuro después de la universidad?\",\n",
        "    \"¿Tienes dificultades financieras?\",\n",
        "    \"¿Tienes problemas de salud mental o física?\",\n",
        "    \"¿Estás involucrado en actividades extracurriculares?\",\n",
        "    \"¿Tienes un sistema de apoyo sólido fuera de la universidad?\",\n",
        "    \"¿Te ves completando tus estudios universitarios?\"\n",
        "]\n",
        "\n",
        "for pregunta in preguntas:\n",
        "    respuesta = input(pregunta + \" (Responde 's' para sí y 'n' para no): \")\n",
        "    while respuesta != 's' and respuesta != 'n':\n",
        "        respuesta = input(\"Por favor, responde 's' para sí y 'n' para no: \")\n",
        "    respuestas.append(respuesta)\n",
        "\n",
        "num_respuestas_afirmativas = respuestas.count('s')\n",
        "probabilidad_abandono = \"\"\n",
        "\n",
        "if num_respuestas_afirmativas == 1 or num_respuestas_afirmativas == 2:\n",
        "    probabilidad_abandono = \"Baja probabilidad de abandonar.\"\n",
        "elif num_respuestas_afirmativas >= 3 and num_respuestas_afirmativas <= 5:\n",
        "    probabilidad_abandono = \"Probabilidad moderada de abandonar.\"\n",
        "elif num_respuestas_afirmativas == 6 or num_respuestas_afirmativas == 7:\n",
        "    probabilidad_abandono = \"Alta probabilidad de abandonar.\"\n",
        "else:\n",
        "    probabilidad_abandono = \"Muy alta probabilidad de abandonar.\"\n",
        "\n",
        "print(\"Puntuación: {} respuestas afirmativas\".format(num_respuestas_afirmativas))\n",
        "print(probabilidad_abandono)\n",
        "print(\"Recuerda: no estas solo siempre hay una solucion para todo.\")"
      ],
      "metadata": {
        "colab": {
          "base_uri": "https://localhost:8080/"
        },
        "id": "gEwzBOc5BAA2",
        "outputId": "485c4e60-9c91-4a10-ac72-6821caf18efd"
      },
      "execution_count": 7,
      "outputs": [
        {
          "output_type": "stream",
          "name": "stdout",
          "text": [
            "¿Te sientes abrumado por la carga de trabajo? (Responde 's' para sí y 'n' para no): n\n",
            "¿Has pensado en abandonar la universidad en el pasado? (Responde 's' para sí y 'n' para no): s\n",
            "¿Te sientes apoyado por tus profesores y compañeros? (Responde 's' para sí y 'n' para no): n\n",
            "¿Estás satisfecho con tu especialización? (Responde 's' para sí y 'n' para no): n\n",
            "¿Tienes un plan claro para tu futuro después de la universidad? (Responde 's' para sí y 'n' para no): s\n",
            "¿Tienes dificultades financieras? (Responde 's' para sí y 'n' para no): n\n",
            "¿Tienes problemas de salud mental o física? (Responde 's' para sí y 'n' para no): s\n",
            "¿Estás involucrado en actividades extracurriculares? (Responde 's' para sí y 'n' para no): s\n",
            "¿Tienes un sistema de apoyo sólido fuera de la universidad? (Responde 's' para sí y 'n' para no): n\n",
            "¿Te ves completando tus estudios universitarios? (Responde 's' para sí y 'n' para no): s\n",
            "Puntuación: 5 respuestas afirmativas\n",
            "Probabilidad moderada de abandonar.\n",
            "Recuerda: no estas solo siempre hay una solucion para todo.\n"
          ]
        }
      ]
    },
    {
      "cell_type": "code",
      "source": [
        "respuestas = []\n",
        "\n",
        "preguntas = [\"¿Sientes ansiedad constantemente sin motivo aparente?\",\n",
        "             \"¿Tienes dificultades para conciliar el sueño o mantenerlo durante la noche?\",\n",
        "             \"¿Experimentas cambios bruscos en tu estado de ánimo sin razón aparente?\",\n",
        "             \"¿Te sientes constantemente triste o desmotivado/a?\",\n",
        "             \"¿Tienes pensamientos recurrentes de autolesión o suicidio?\",\n",
        "             \"¿Te cuesta concentrarte en tus tareas diarias?\",\n",
        "             \"¿Sientes miedo irracional o fobias que interfieren en tu vida cotidiana?\",\n",
        "             \"¿Experimentas episodios de paranoia o delirios?\",\n",
        "             \"¿Has tenido experiencias traumáticas que afectan tu día a día?\",\n",
        "             \"¿Sientes que tus relaciones interpersonales se ven afectadas por tu estado emocional?\"]\n",
        "\n",
        "for pregunta in preguntas:\n",
        "    respuesta = input(pregunta + \" (Sí/No): \")\n",
        "    respuestas.append(respuesta)\n",
        "\n",
        "if \"Sí\" in respuestas:\n",
        "    print(\"Es recomendable que consultes con un profesional de la salud mental para recibir ayuda y apoyo.\")\n",
        "else:\n",
        "    print(\"Parece que no estás experimentando síntomas de un trastorno emocional grave en este momento, pero recuerda siempre cuidar de tu bienestar emocional.\")"
      ],
      "metadata": {
        "colab": {
          "base_uri": "https://localhost:8080/"
        },
        "id": "MyIjOrjUD0Zv",
        "outputId": "77dfe2e2-8653-4038-f640-6dac08824a92"
      },
      "execution_count": 9,
      "outputs": [
        {
          "output_type": "stream",
          "name": "stdout",
          "text": [
            "¿Sientes ansiedad constantemente sin motivo aparente? (Sí/No): si\n",
            "¿Tienes dificultades para conciliar el sueño o mantenerlo durante la noche? (Sí/No): si\n",
            "¿Experimentas cambios bruscos en tu estado de ánimo sin razón aparente? (Sí/No): no\n",
            "¿Te sientes constantemente triste o desmotivado/a? (Sí/No): si\n",
            "¿Tienes pensamientos recurrentes de autolesión o suicidio? (Sí/No): no\n",
            "¿Te cuesta concentrarte en tus tareas diarias? (Sí/No): si\n",
            "¿Sientes miedo irracional o fobias que interfieren en tu vida cotidiana? (Sí/No): no\n",
            "¿Experimentas episodios de paranoia o delirios? (Sí/No): mo\n",
            "¿Has tenido experiencias traumáticas que afectan tu día a día? (Sí/No): no\n",
            "¿Sientes que tus relaciones interpersonales se ven afectadas por tu estado emocional? (Sí/No): no\n",
            "Parece que no estás experimentando síntomas de un trastorno emocional grave en este momento, pero recuerda siempre cuidar de tu bienestar emocional.\n"
          ]
        }
      ]
    },
    {
      "cell_type": "code",
      "source": [
        "ansiedad = False\n",
        "depresion = False\n",
        "estres = False\n",
        "trastornos_alimentacion = False\n",
        "tdah = False\n",
        "trastornos_sueno = False\n",
        "problemas_autoestima = False\n",
        "bullying_acoso_escolar = False\n",
        "abuso_sustancias = False\n",
        "\n",
        "print(\"Responde 'Si' o 'No' a las siguientes preguntas:\")\n",
        "respuesta = input(\"¿Sientes constantemente preocupación o miedo excesivo? \")\n",
        "if respuesta.lower() == \"si\":\n",
        "    ansiedad = True\n",
        "\n",
        "respuesta = input(\"¿Te sientes triste la mayor parte del tiempo? \")\n",
        "if respuesta.lower() == \"si\":\n",
        "    depresion = True\n",
        "\n",
        "respuesta = input(\"¿Te sientes muy presionado/a o agobiado/a en tu vida diaria? \")\n",
        "if respuesta.lower() == \"si\":\n",
        "    estres = True\n",
        "\n",
        "respuesta = input(\"¿Tienes problemas con la alimentación, como atracones o restricciones excesivas de comida? \")\n",
        "if respuesta.lower() == \"si\":\n",
        "    trastornos_alimentacion = True\n",
        "\n",
        "respuesta = input(\"¿Tienes dificultades para concentrarte en tus tareas o actividades? \")\n",
        "if respuesta.lower() == \"si\":\n",
        "    tdah = True\n",
        "\n",
        "respuesta = input(\"¿Tienes problemas para conciliar el sueño o te despiertas frecuentemente durante la noche? \")\n",
        "if respuesta.lower() == \"si\":\n",
        "    trastornos_sueno = True\n",
        "\n",
        "respuesta = input(\"¿Tienes una baja autoestima y te sientes poco valioso/a? \")\n",
        "if respuesta.lower() == \"si\":\n",
        "    problemas_autoestima = True\n",
        "\n",
        "respuesta = input(\"¿Has sido víctima de bullying o acoso escolar? \")\n",
        "if respuesta.lower() == \"si\":\n",
        "    bullying_acoso_escolar = True\n",
        "\n",
        "respuesta = input(\"¿Has consumido drogas o alcohol de forma problemática? \")\n",
        "if respuesta.lower() == \"si\":\n",
        "    abuso_sustancias = True\n",
        "\n",
        "if ansiedad:\n",
        "    print(\"Tienes ansiedad.\")\n",
        "if depresion:\n",
        "    print(\"Tienes depresión.\")\n",
        "if estres:\n",
        "    print(\"Tienes estrés.\")\n",
        "if trastornos_alimentacion:\n",
        "    print(\"Tienes trastornos de alimentación.\")\n",
        "if tdah:\n",
        "    print(\"Tienes TDAH.\")\n",
        "if trastornos_sueno:\n",
        "    print(\"Tienes trastornos del sueño.\")\n",
        "if problemas_autoestima:\n",
        "    print(\"Tienes problemas de autoestima.\")\n",
        "if bullying_acoso_escolar:\n",
        "    print(\"Has sido víctima de bullying y acoso escolar.\")\n",
        "if abuso_sustancias:\n",
        "    print(\"Tienes abuso de sustancias.\")\n"
      ],
      "metadata": {
        "colab": {
          "base_uri": "https://localhost:8080/"
        },
        "id": "uIHmgQpTJWG0",
        "outputId": "b46df47e-d7f8-4449-88ed-d71eeac58f6e"
      },
      "execution_count": 16,
      "outputs": [
        {
          "output_type": "stream",
          "name": "stdout",
          "text": [
            "Responde 'Si' o 'No' a las siguientes preguntas:\n",
            "¿Sientes constantemente preocupación o miedo excesivo? no\n",
            "¿Te sientes triste la mayor parte del tiempo? si\n",
            "¿Te sientes muy presionado/a o agobiado/a en tu vida diaria? si\n",
            "¿Tienes problemas con la alimentación, como atracones o restricciones excesivas de comida? no\n",
            "¿Tienes dificultades para concentrarte en tus tareas o actividades? si\n",
            "¿Tienes problemas para conciliar el sueño o te despiertas frecuentemente durante la noche? no\n",
            "¿Tienes una baja autoestima y te sientes poco valioso/a? si\n",
            "¿Has sido víctima de bullying o acoso escolar? no\n",
            "¿Has consumido drogas o alcohol de forma problemática? no\n",
            "Tienes depresión.\n",
            "Tienes estrés.\n",
            "Tienes TDAH.\n",
            "Tienes problemas de autoestima.\n"
          ]
        }
      ]
    }
  ]
}