{
  "nbformat": 4,
  "nbformat_minor": 0,
  "metadata": {
    "colab": {
      "provenance": [],
      "authorship_tag": "ABX9TyO/Gml2XdO+icIP7XGSbd7O",
      "include_colab_link": true
    },
    "kernelspec": {
      "name": "python3",
      "display_name": "Python 3"
    },
    "language_info": {
      "name": "python"
    }
  },
  "cells": [
    {
      "cell_type": "markdown",
      "metadata": {
        "id": "view-in-github",
        "colab_type": "text"
      },
      "source": [
        "<a href=\"https://colab.research.google.com/github/Carmodann1311/proyectos-AP.M/blob/main/Prototipico.ipynb\" target=\"_parent\"><img src=\"https://colab.research.google.com/assets/colab-badge.svg\" alt=\"Open In Colab\"/></a>"
      ]
    },
    {
      "cell_type": "code",
      "execution_count": 1,
      "metadata": {
        "colab": {
          "base_uri": "https://localhost:8080/",
          "height": 106
        },
        "id": "Ta9G6OLK9tiI",
        "outputId": "0820bce8-fcbe-4de8-d4c9-cd93abe5999f"
      },
      "outputs": [
        {
          "output_type": "error",
          "ename": "IndentationError",
          "evalue": "unexpected indent (<ipython-input-1-3e703f017408>, line 7)",
          "traceback": [
            "\u001b[0;36m  File \u001b[0;32m\"<ipython-input-1-3e703f017408>\"\u001b[0;36m, line \u001b[0;32m7\u001b[0m\n\u001b[0;31m    print(\"Estás caminando por un bosque y te encuentras con una bifurcación\")\u001b[0m\n\u001b[0m    ^\u001b[0m\n\u001b[0;31mIndentationError\u001b[0m\u001b[0;31m:\u001b[0m unexpected indent\n"
          ]
        }
      ],
      "source": [
        "print(\"Bienvenido al juego de decisiones emocionales\")\n",
        "print(\"¿Estás listo para jugar?\")\n",
        "ready = input(\"Presiona 'S' para empezar el juego: \")\n",
        "\n",
        "if ready.lower() == 's':\n",
        "    print(\"Excelente, comencemos...\")\n",
        "    print(\"Estás caminando por un bosque y te encuentras con una bifurcación\")\n",
        "    decision_1 = input(\"¿Tomar el camino de la izquierda (I) o el camino de la derecha (D)?: \")\n",
        "\n",
        "    if decision_1.lower() == 'i':\n",
        "     print(\"Has tomado el camino de la izquierda\")\n",
        "     print(\"Te encuentras con un lago, ¿quieres nadar en él?\")\n",
        "     decision_2 = input(\"Presiona 'S' para nadar o 'N' para seguir caminando: \")\n",
        "\n",
        "    if decision_2.lower() == 's':\n",
        "     print(\"Has decidido nadar en el lago, es una experiencia refrescante\")\n",
        "    else:\n",
        "      print(\"Decides seguir caminando y encuentras un tesoro escondido en el bosque\")\n",
        "\n",
        "    else:\n",
        "      print(\"Has tomado el camino de la derecha\")\n",
        "      print(\"Encuentras una cueva, ¿quieres explorarla?\")\n",
        "    decision_3 = input(\"Presiona 'E' para explorar o 'S' para seguir caminando: \")\n",
        "\n",
        "    if decision_3.lower() == 'e':\n",
        "     print(\"Al explorar la cueva encuentras un dragón que te ataca, ¡corrres por tu vida!\")\n",
        "    else:\n",
        "     print(\"Decides seguir caminando y te encuentras con un grupo de hadas que te guían a un lugar seguro\")\n",
        "    else:\n",
        "      print(\"¡Hasta la próxima\")"
      ]
    }
  ]
}