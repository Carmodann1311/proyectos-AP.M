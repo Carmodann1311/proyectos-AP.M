{
  "nbformat": 4,
  "nbformat_minor": 0,
  "metadata": {
    "colab": {
      "provenance": [],
      "authorship_tag": "ABX9TyNMJoKp+l+fuvZIhTlx2pxU",
      "include_colab_link": true
    },
    "kernelspec": {
      "name": "python3",
      "display_name": "Python 3"
    },
    "language_info": {
      "name": "python"
    }
  },
  "cells": [
    {
      "cell_type": "markdown",
      "metadata": {
        "id": "view-in-github",
        "colab_type": "text"
      },
      "source": [
        "<a href=\"https://colab.research.google.com/github/Carmodann1311/proyectos-AP.M/blob/main/Logistica_regresion.ipynb\" target=\"_parent\"><img src=\"https://colab.research.google.com/assets/colab-badge.svg\" alt=\"Open In Colab\"/></a>"
      ]
    },
    {
      "cell_type": "code",
      "source": [
        "import numpy as np\n",
        "\n",
        "equipos = {\n",
        "    \"America\": [17, 12, 14, 37, 14, 23, 1],\n",
        "    \"Monterrey\": [33, 17, 10, 4, 3, 27, 15, 12, 1],\n",
        "    \"Tigres\": [30, 17, 8, 3, 6, 32, 18, 14, 1],\n",
        "    \"Pumas\": [28, 17, 8, 5, 4, 27, 18, 9, 1],\n",
        "    \"Chivas\": [27, 17, 8, 6, 3, 22, 22, 0, 1],\n",
        "    \"Puebla\": [25, 17, 7, 6, 4, 24, 25, -1, 1],\n",
        "    \"San luis\": [23, 17, 7, 8, 2, 31, 26, 5, 0],\n",
        "    \"Leon\": [23, 17, 6, 6, 5, 23, 22, 1, 0],\n",
        "    \"Santos\": [23, 17, 7, 8, 2, 31, 34, -3, 0],\n",
        "    \"Mazatlan\": [22, 17, 6, 7, 4, 25, 27, -2, 0],\n",
        "    \"Pachuca\": [22, 17, 5, 5, 7, 16, 27, -11, 0],\n",
        "    \"Toluca\": [21, 17, 5, 6, 6, 23, 19, 4, 0],\n",
        "    \"TIjuana\": [20, 17, 6, 9, 2, 23, 26, -3, 0],\n",
        "    \"Queretaro\": [19, 17, 5, 8, 4, 18, 29, -11, 0],\n",
        "    \"Juarez\": [18, 17, 5, 9, 3, 24, 34, -10, 0],\n",
        "    \"Cruz azul\": [17, 17, 5, 10, 2, 21, 29, -8, 0],\n",
        "    \"Atlas\": [17, 17, 4, 8, 5, 14, 24, -10, 0],\n",
        "    \"Necaxa\": [15, 17, 3, 8, 6, 18, 27, -9, 0]\n",
        "}\n",
        "\n",
        "nombres = []\n",
        "\n",
        "clasificacion = []\n",
        "\n",
        "goles = []\n",
        "\n",
        "for equipo, datos in equipos.items():\n",
        "    nombres.append(equipo)\n",
        "    clasificacion.append(datos[-1])\n",
        "    goles.append(datos[-3:-1])\n",
        "\n",
        "clasificacion = np.array(clasificacion)\n",
        "goles = np.array(goles)\n",
        "\n",
        "print(clasificacion)\n",
        "print(goles)"
      ],
      "metadata": {
        "id": "XUuu41a7l5LJ",
        "outputId": "c2655305-c952-4b63-8b7c-0b613700b72a",
        "colab": {
          "base_uri": "https://localhost:8080/"
        }
      },
      "execution_count": null,
      "outputs": [
        {
          "output_type": "stream",
          "name": "stdout",
          "text": [
            "[1 1 1 1 1 1 0 0 0 0 0 0 0 0 0 0 0 0]\n",
            "[[ 14  23]\n",
            " [ 15  12]\n",
            " [ 18  14]\n",
            " [ 18   9]\n",
            " [ 22   0]\n",
            " [ 25  -1]\n",
            " [ 26   5]\n",
            " [ 22   1]\n",
            " [ 34  -3]\n",
            " [ 27  -2]\n",
            " [ 27 -11]\n",
            " [ 19   4]\n",
            " [ 26  -3]\n",
            " [ 29 -11]\n",
            " [ 34 -10]\n",
            " [ 29  -8]\n",
            " [ 24 -10]\n",
            " [ 27  -9]]\n"
          ]
        }
      ]
    },
    {
      "cell_type": "code",
      "source": [
        "from sklearn.linear_model import LogisticRegression\n",
        "\n",
        "modelo = LogisticRegression()\n",
        "\n",
        "modelo.fit(goles, clasificacion)\n",
        "\n",
        "intercepto = modelo.intercept_\n",
        "coeficientes = modelo.coef_\n",
        "\n",
        "print(intercepto)\n",
        "print(coeficientes)"
      ],
      "metadata": {
        "id": "Xa-bpeK-mN3Z",
        "outputId": "a2e051b2-4c84-4de3-cf45-4ca540dc4196",
        "colab": {
          "base_uri": "https://localhost:8080/"
        }
      },
      "execution_count": null,
      "outputs": [
        {
          "output_type": "stream",
          "name": "stdout",
          "text": [
            "[4.37533861]\n",
            "[[-0.22903146  0.16123273]]\n"
          ]
        }
      ]
    },
    {
      "cell_type": "code",
      "source": [
        "probabilidades = modelo.predict_proba(goles)\n",
        "\n",
        "print(probabilidades)"
      ],
      "metadata": {
        "id": "gx6Wp2J5mVVB",
        "outputId": "846c202a-a137-43d4-81cf-c6c67866b958",
        "colab": {
          "base_uri": "https://localhost:8080/"
        }
      },
      "execution_count": null,
      "outputs": [
        {
          "output_type": "stream",
          "name": "stdout",
          "text": [
            "[[0.00756033 0.99243967]\n",
            " [0.05342055 0.94657945]\n",
            " [0.07515799 0.92484201]\n",
            " [0.1539609  0.8460391 ]\n",
            " [0.66001332 0.33998668]\n",
            " [0.81931015 0.18068985]\n",
            " [0.68423772 0.31576228]\n",
            " [0.62295761 0.37704239]\n",
            " [0.98007061 0.01992939]\n",
            " [0.89387766 0.10612234]\n",
            " [0.97293487 0.02706513]\n",
            " [0.33879432 0.66120568]\n",
            " [0.88727239 0.11272761]\n",
            " [0.98270912 0.01729088]\n",
            " [0.99346521 0.00653479]\n",
            " [0.97225158 0.02774842]\n",
            " [0.93898867 0.06101133]\n",
            " [0.96301674 0.03698326]]\n"
          ]
        }
      ]
    }
  ]
}