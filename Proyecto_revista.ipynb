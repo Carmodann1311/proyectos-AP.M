{
  "nbformat": 4,
  "nbformat_minor": 0,
  "metadata": {
    "colab": {
      "provenance": [],
      "authorship_tag": "ABX9TyMjgY/FUviirWJbDAebNuNW",
      "include_colab_link": true
    },
    "kernelspec": {
      "name": "python3",
      "display_name": "Python 3"
    },
    "language_info": {
      "name": "python"
    }
  },
  "cells": [
    {
      "cell_type": "markdown",
      "metadata": {
        "id": "view-in-github",
        "colab_type": "text"
      },
      "source": [
        "<a href=\"https://colab.research.google.com/github/Carmodann1311/proyectos-AP.M/blob/main/Proyecto_revista.ipynb\" target=\"_parent\"><img src=\"https://colab.research.google.com/assets/colab-badge.svg\" alt=\"Open In Colab\"/></a>"
      ]
    },
    {
      "cell_type": "markdown",
      "source": [
        "test de probabilidad de dejar la escuela"
      ],
      "metadata": {
        "id": "p9LdYGaRB4ol"
      }
    },
    {
      "cell_type": "code",
      "source": [
        "def test_probabilidad_dejar_universidad():\n",
        "    # Preguntas\n",
        "    print(\"Responde las siguientes preguntas con 'sí' o 'no':\")\n",
        "    respuesta1 = input(\"1. ¿Te sientes motivado/a para estudiar y asistir a clases? \")\n",
        "    respuesta2 = input(\"2. ¿Tienes un buen sistema de apoyo (amigos, familia, profesores)? \")\n",
        "    respuesta3 = input(\"3. ¿Estás satisfecho/a con tu elección de carrera? \")\n",
        "    respuesta4 = input(\"4. ¿Tienes dificultades financieras? \")\n",
        "    respuesta5 = input(\"5. ¿Te sientes abrumado/a por la carga académica? \")\n",
        "    respuesta6 = input(\"6. ¿Participas activamente en actividades extracurriculares? \")\n",
        "    respuesta7 = input(\"7. ¿Tienes un plan de estudio y metas claras? \")\n",
        "    respuesta8 = input(\"8. ¿Te sientes cómodo/a socialmente en la universidad? \")\n",
        "    respuesta9 = input(\"9. ¿Has considerado abandonar la universidad en algún momento? \")\n",
        "    respuesta10 = input(\"10. ¿Tienes un buen equilibrio entre estudio y vida personal? \")\n",
        "\n",
        "    # Cálculo de probabilidad\n",
        "    respuestas_afirmativas = [respuesta1, respuesta2, respuesta3, respuesta4, respuesta5,\n",
        "                              respuesta6, respuesta7, respuesta8, respuesta9, respuesta10]\n",
        "    num_afirmativas = respuestas_afirmativas.count(\"sí\")\n",
        "    probabilidad_dejar = (num_afirmativas / 10) * 100\n",
        "\n",
        "    # Resultado\n",
        "    print(f\"\\nBasado en tus respuestas, hay aproximadamente un {probabilidad_dejar:.2f}% de probabilidad de que dejes la universidad.\")\n",
        "\n",
        "    # Ejecutar el test\n",
        "    test_probabilidad_dejar_universidad()\n"
      ],
      "metadata": {
        "id": "me23rPpuFTco"
      },
      "execution_count": null,
      "outputs": []
    },
    {
      "cell_type": "markdown",
      "source": [
        "test de saber qué tipo de salud mental tienes para dejar la escuela"
      ],
      "metadata": {
        "id": "-0z7508zB3sG"
      }
    },
    {
      "cell_type": "code",
      "source": [
        "def juego_emociones():\n",
        "      print(\"Bienvenido al Minijuego de Emociones y Decisiones.\")\n",
        "      print(\"Imagina que estás en diferentes situaciones. Elige tu respuesta:\")\n",
        "      print(\"1. Te encuentras con un amigo que está triste:\")\n",
        "      print(\"   a) Le das un abrazo y le preguntas qué pasa.\")\n",
        "      print(\"   b) Le dices que se anime y cambie de tema.\")\n",
        "      respuesta1 = input(\"Tu elección (a/b): \")\n",
        "\n",
        "      print(\"\\n2. Estás en un examen importante:\")\n",
        "      print(\"   a) Te sientes nervioso/a pero confías en tus habilidades.\")\n",
        "      print(\"   b) Te bloqueas y no puedes concentrarte.\")\n",
        "      respuesta2 = input(\"Tu elección (a/b): \")\n",
        "\n",
        "      print(\"\\n3. Recibes una crítica negativa en tu trabajo:\")\n",
        "      print(\"   a) Aceptas la crítica y buscas mejorar.\")\n",
        "      print(\"   b) Te sientes herido/a y defensivo/a.\")\n",
        "      respuesta3 = input(\"Tu elección (a/b): \")\n",
        "\n",
        "      # Cálculo de resultados\n",
        "      emociones_positivas = [respuesta1, respuesta2, respuesta3].count(\"a\")\n",
        "      emociones_negativas = 3 - emociones_positivas\n",
        "\n",
        "      # Mostrar resultados\n",
        "      print(\"\\nResultados:\")\n",
        "      print(f\"Emociones positivas: {emociones_positivas}\")\n",
        "      print(f\"Emociones negativas: {emociones_negativas}\")\n",
        "\n",
        "      if emociones_positivas > emociones_negativas:\n",
        "       print(\"¡Has tomado decisiones positivas! ¡Sigue así!\")\n",
        "      else:\n",
        "       print(\"Recuerda cuidar tus emociones y tomar decisiones conscientes.\")\n",
        "\n",
        "      # Ejecutar el juego\n",
        "      juego_emociones()\n"
      ],
      "metadata": {
        "id": "lSE6kUR1B2v7"
      },
      "execution_count": 2,
      "outputs": []
    }
  ]
}