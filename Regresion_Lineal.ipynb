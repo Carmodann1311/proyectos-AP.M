{
  "nbformat": 4,
  "nbformat_minor": 0,
  "metadata": {
    "colab": {
      "provenance": [],
      "authorship_tag": "ABX9TyMIleHp6NAICj3+8NTNGvai",
      "include_colab_link": true
    },
    "kernelspec": {
      "name": "python3",
      "display_name": "Python 3"
    },
    "language_info": {
      "name": "python"
    }
  },
  "cells": [
    {
      "cell_type": "markdown",
      "metadata": {
        "id": "view-in-github",
        "colab_type": "text"
      },
      "source": [
        "<a href=\"https://colab.research.google.com/github/Carmodann1311/proyectos-AP.M/blob/main/Regresion_Lineal.ipynb\" target=\"_parent\"><img src=\"https://colab.research.google.com/assets/colab-badge.svg\" alt=\"Open In Colab\"/></a>"
      ]
    },
    {
      "cell_type": "markdown",
      "source": [
        "**Actualizado:**noviembre/2023"
      ],
      "metadata": {
        "id": "49tKkaK78ReD"
      }
    },
    {
      "cell_type": "markdown",
      "source": [
        "**Autor:**Roberto Daniel Rodríguez Carmona"
      ],
      "metadata": {
        "id": "bq1ULMOY8dYa"
      }
    },
    {
      "cell_type": "markdown",
      "source": [
        "**tema:**Regresión lineal"
      ],
      "metadata": {
        "id": "_ZrZkc3n8eY2"
      }
    },
    {
      "cell_type": "markdown",
      "source": [
        "**Explicación de código:**"
      ],
      "metadata": {
        "id": "fL7B_Byr8Kpy"
      }
    },
    {
      "cell_type": "code",
      "source": [
        "import numpy as np\n",
        "\n",
        "equipos = {\n",
        "    \"America\": [17, 12, 14, 37, 14, 23],\n",
        "    \"Monterrey\": [33, 17, 10, 4, 3, 27, 15, 12],\n",
        "    \"Tigres\": [30, 17, 8, 3, 6, 32, 18, 14],\n",
        "    \"Pumas\": [28, 17, 8, 5, 4, 27, 18, 9],\n",
        "    \"Chivas\": [27, 17, 8, 6, 3, 22, 22, 0],\n",
        "    \"Puebla\": [25, 17, 7, 6, 4, 24, 25, -1],\n",
        "    \"San luis\": [23, 17, 7, 8, 2, 31, 26, 5],\n",
        "    \"Leon\": [23, 17, 6, 6, 5, 23, 22, 1],\n",
        "    \"Santos\": [23, 17, 7, 8, 2, 31, 34, -3],\n",
        "    \"Mazatlan\": [22, 17, 6, 7, 4, 25, 27, -2],\n",
        "    \"Pachuca\": [22, 17, 5, 5, 7, 16, 27, -11],\n",
        "    \"Toluca\": [21, 17, 5, 6, 6, 23, 19, 4],\n",
        "    \"TIjuana\": [20, 17, 6, 9, 2, 23, 26, -3],\n",
        "    \"Queretaro\": [19, 17, 5, 8, 4, 18, 29, -11],\n",
        "    \"Juarez\": [18, 17, 5, 9, 3, 24, 34, -10],\n",
        "    \"Cruz azul\": [17, 17, 5, 10, 2, 21, 29, -8],\n",
        "    \"Atlas\": [17, 17, 4, 8, 5, 14, 24, -10],\n",
        "    \"Necaxa\": [15, 17, 3, 8, 6, 18, 27, -9]\n",
        "}\n",
        "\n",
        "nombres = []\n",
        "\n",
        "puntos = []\n",
        "\n",
        "goles = []\n",
        "\n",
        "for equipo, datos in equipos.items():\n",
        "\n",
        "    nombres.append(equipo)\n",
        "\n",
        "    puntos.append(datos[-1])\n",
        "\n",
        "    goles.append(datos[-3:-1])\n",
        "\n",
        "puntos = np.array(puntos)\n",
        "goles = np.array(goles)\n",
        "\n",
        "print(puntos)\n",
        "print(goles)"
      ],
      "metadata": {
        "id": "TAZOjGsyhloU",
        "outputId": "98de61c5-bb82-4ab9-9948-5e8c53577917",
        "colab": {
          "base_uri": "https://localhost:8080/"
        }
      },
      "execution_count": null,
      "outputs": [
        {
          "output_type": "stream",
          "name": "stdout",
          "text": [
            "[ 23  12  14   9   0  -1   5   1  -3  -2 -11   4  -3 -11 -10  -8 -10  -9]\n",
            "[[37 14]\n",
            " [27 15]\n",
            " [32 18]\n",
            " [27 18]\n",
            " [22 22]\n",
            " [24 25]\n",
            " [31 26]\n",
            " [23 22]\n",
            " [31 34]\n",
            " [25 27]\n",
            " [16 27]\n",
            " [23 19]\n",
            " [23 26]\n",
            " [18 29]\n",
            " [24 34]\n",
            " [21 29]\n",
            " [14 24]\n",
            " [18 27]]\n"
          ]
        }
      ]
    },
    {
      "cell_type": "markdown",
      "source": [
        "**Explicación:**"
      ],
      "metadata": {
        "id": "l-lr0dW49Tw_"
      }
    },
    {
      "cell_type": "code",
      "source": [
        "from sklearn.linear_model import LinearRegression\n",
        "\n",
        "modelo = LinearRegression()\n",
        "\n",
        "modelo.fit(goles, puntos)\n",
        "\n",
        "intercepto = modelo.intercept_\n",
        "coeficientes = modelo.coef_\n",
        "\n",
        "print(intercepto)\n",
        "print(coeficientes)"
      ],
      "metadata": {
        "id": "DeeGU8oNiBcz",
        "outputId": "d18b3afd-a2d0-4456-91d3-d9c01033c175",
        "colab": {
          "base_uri": "https://localhost:8080/"
        }
      },
      "execution_count": null,
      "outputs": [
        {
          "output_type": "stream",
          "name": "stdout",
          "text": [
            "0.0\n",
            "[ 1. -1.]\n"
          ]
        }
      ]
    },
    {
      "cell_type": "markdown",
      "source": [
        "**Explicación:**"
      ],
      "metadata": {
        "id": "OyR5-LPq9fWY"
      }
    },
    {
      "cell_type": "code",
      "source": [
        "predicciones = modelo.predict(goles)\n",
        "\n",
        "print(predicciones)"
      ],
      "metadata": {
        "id": "EwmQ6zoKiEpJ",
        "outputId": "7262abe5-eac1-406d-c09b-dc11f9c5df2f",
        "colab": {
          "base_uri": "https://localhost:8080/"
        }
      },
      "execution_count": null,
      "outputs": [
        {
          "output_type": "stream",
          "name": "stdout",
          "text": [
            "[ 2.30000000e+01  1.20000000e+01  1.40000000e+01  9.00000000e+00\n",
            "  1.33226763e-15 -1.00000000e+00  5.00000000e+00  1.00000000e+00\n",
            " -3.00000000e+00 -2.00000000e+00 -1.10000000e+01  4.00000000e+00\n",
            " -3.00000000e+00 -1.10000000e+01 -1.00000000e+01 -8.00000000e+00\n",
            " -1.00000000e+01 -9.00000000e+00]\n"
          ]
        }
      ]
    },
    {
      "cell_type": "markdown",
      "source": [
        "**Explicación**"
      ],
      "metadata": {
        "id": "sGJDmDju9hA4"
      }
    },
    {
      "cell_type": "code",
      "source": [
        "r2 = modelo.score(goles, puntos)\n",
        "\n",
        "print(r2)"
      ],
      "metadata": {
        "id": "QvVjypOciIYx",
        "outputId": "4a79fb77-84ba-4832-f96f-ac091a0c6c8b",
        "colab": {
          "base_uri": "https://localhost:8080/"
        }
      },
      "execution_count": null,
      "outputs": [
        {
          "output_type": "stream",
          "name": "stdout",
          "text": [
            "1.0\n"
          ]
        }
      ]
    },
    {
      "cell_type": "markdown",
      "source": [
        "**Bibliografía:**"
      ],
      "metadata": {
        "id": "-QeD3-Tm9jyY"
      }
    }
  ]
}